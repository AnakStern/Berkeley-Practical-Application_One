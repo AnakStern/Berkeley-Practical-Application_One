{
 "cells": [
  {
   "cell_type": "markdown",
   "metadata": {
    "id": "CcUT6Fon_qRE",
    "jp-MarkdownHeadingCollapsed": true
   },
   "source": [
    "### Required Assignment 5.1: Will the Customer Accept the Coupon?\n",
    "\n",
    "**Context**\n",
    "\n",
    "Imagine driving through town and a coupon is delivered to your cell phone for a restaurant near where you are driving. Would you accept that coupon and take a short detour to the restaurant? Would you accept the coupon but use it on a subsequent trip? Would you ignore the coupon entirely? What if the coupon was for a bar instead of a restaurant? What about a coffee house? Would you accept a bar coupon with a minor passenger in the car? What about if it was just you and your partner in the car? Would weather impact the rate of acceptance? What about the time of day?\n",
    "\n",
    "Obviously, proximity to the business is a factor on whether the coupon is delivered to the driver or not, but what are the factors that determine whether a driver accepts the coupon once it is delivered to them? How would you determine whether a driver is likely to accept a coupon?\n",
    "\n",
    "**Overview**\n",
    "\n",
    "The goal of this project is to use what you know about visualizations and probability distributions to distinguish between customers who accepted a driving coupon versus those that did not.\n",
    "\n",
    "**Data**\n",
    "\n",
    "This data comes to us from the UCI Machine Learning repository and was collected via a survey on Amazon Mechanical Turk. The survey describes different driving scenarios including the destination, current time, weather, passenger, etc., and then ask the person whether he will accept the coupon if he is the driver. Answers that the user will drive there ‘right away’ or ‘later before the coupon expires’ are labeled as ‘Y = 1’ and answers ‘no, I do not want the coupon’ are labeled as ‘Y = 0’.  There are five different types of coupons -- less expensive restaurants (under \\$20), coffee houses, carry out & take away, bar, and more expensive restaurants (\\$20 - $50)."
   ]
  },
  {
   "cell_type": "markdown",
   "metadata": {
    "id": "1wORvMBJ_qRF"
   },
   "source": [
    "**Deliverables**\n",
    "\n",
    "Your final product should be a brief report that highlights the differences between customers who did and did not accept the coupons.  To explore the data you will utilize your knowledge of plotting, statistical summaries, and visualization using Python. You will publish your findings in a public facing github repository as your first portfolio piece.\n",
    "\n",
    "\n",
    "\n"
   ]
  },
  {
   "cell_type": "markdown",
   "metadata": {
    "id": "pG6_Ym6q_qRG"
   },
   "source": [
    "### Data Description\n",
    "Keep in mind that these values mentioned below are average values.\n",
    "\n",
    "The attributes of this data set include:\n",
    "1. User attributes\n",
    "    -  Gender: male, female\n",
    "    -  Age: below 21, 21 to 25, 26 to 30, etc.\n",
    "    -  Marital Status: single, married partner, unmarried partner, or widowed\n",
    "    -  Number of children: 0, 1, or more than 1\n",
    "    -  Education: high school, bachelors degree, associates degree, or graduate degree\n",
    "    -  Occupation: architecture & engineering, business & financial, etc.\n",
    "    -  Annual income: less than \\\\$12500, \\\\$12500 - \\\\$24999, \\\\$25000 - \\\\$37499, etc.\n",
    "    -  Number of times that he/she goes to a bar: 0, less than 1, 1 to 3, 4 to 8 or greater than 8\n",
    "    -  Number of times that he/she buys takeaway food: 0, less than 1, 1 to 3, 4 to 8 or greater\n",
    "    than 8\n",
    "    -  Number of times that he/she goes to a coffee house: 0, less than 1, 1 to 3, 4 to 8 or\n",
    "    greater than 8\n",
    "    -  Number of times that he/she eats at a restaurant with average expense less than \\\\$20 per\n",
    "    person: 0, less than 1, 1 to 3, 4 to 8 or greater than 8\n",
    "    -  Number of times that he/she goes to a bar: 0, less than 1, 1 to 3, 4 to 8 or greater than 8\n",
    "    \n",
    "\n",
    "2. Contextual attributes\n",
    "    - Driving destination: home, work, or no urgent destination\n",
    "    - Location of user, coupon and destination: we provide a map to show the geographical\n",
    "    location of the user, destination, and the venue, and we mark the distance between each\n",
    "    two places with time of driving. The user can see whether the venue is in the same\n",
    "    direction as the destination.\n",
    "    - Weather: sunny, rainy, or snowy\n",
    "    - Temperature: 30F, 55F, or 80F\n",
    "    - Time: 10AM, 2PM, or 6PM\n",
    "    - Passenger: alone, partner, kid(s), or friend(s)\n",
    "\n",
    "\n",
    "3. Coupon attributes\n",
    "    - time before it expires: 2 hours or one day"
   ]
  },
  {
   "cell_type": "code",
   "execution_count": 413,
   "metadata": {
    "id": "dzNoP3o__qRG"
   },
   "outputs": [],
   "source": [
    "import matplotlib.pyplot as plt\n",
    "import seaborn as sns\n",
    "import pandas as pd\n",
    "import numpy as np"
   ]
  },
  {
   "cell_type": "markdown",
   "metadata": {
    "id": "Ct8pI1uE_qRG"
   },
   "source": [
    "### Problems\n",
    "\n",
    "Use the prompts below to get started with your data analysis.  \n",
    "\n",
    "1. Read in the `coupons.csv` file.\n",
    "\n",
    "\n"
   ]
  },
  {
   "cell_type": "code",
   "execution_count": 414,
   "metadata": {
    "id": "X0vbffYg_qRH"
   },
   "outputs": [],
   "source": [
    "data = pd.read_csv('data/coupons.csv')"
   ]
  },
  {
   "cell_type": "code",
   "execution_count": 415,
   "metadata": {
    "id": "TXofQ_DF_qRH",
    "outputId": "2fc96a2c-1112-4b54-f24f-dbb9bc88abfb"
   },
   "outputs": [
    {
     "data": {
      "text/html": [
       "<div>\n",
       "<style scoped>\n",
       "    .dataframe tbody tr th:only-of-type {\n",
       "        vertical-align: middle;\n",
       "    }\n",
       "\n",
       "    .dataframe tbody tr th {\n",
       "        vertical-align: top;\n",
       "    }\n",
       "\n",
       "    .dataframe thead th {\n",
       "        text-align: right;\n",
       "    }\n",
       "</style>\n",
       "<table border=\"1\" class=\"dataframe\">\n",
       "  <thead>\n",
       "    <tr style=\"text-align: right;\">\n",
       "      <th></th>\n",
       "      <th>destination</th>\n",
       "      <th>passanger</th>\n",
       "      <th>weather</th>\n",
       "      <th>temperature</th>\n",
       "      <th>time</th>\n",
       "      <th>coupon</th>\n",
       "      <th>expiration</th>\n",
       "      <th>gender</th>\n",
       "      <th>age</th>\n",
       "      <th>maritalStatus</th>\n",
       "      <th>...</th>\n",
       "      <th>CoffeeHouse</th>\n",
       "      <th>CarryAway</th>\n",
       "      <th>RestaurantLessThan20</th>\n",
       "      <th>Restaurant20To50</th>\n",
       "      <th>toCoupon_GEQ5min</th>\n",
       "      <th>toCoupon_GEQ15min</th>\n",
       "      <th>toCoupon_GEQ25min</th>\n",
       "      <th>direction_same</th>\n",
       "      <th>direction_opp</th>\n",
       "      <th>Y</th>\n",
       "    </tr>\n",
       "  </thead>\n",
       "  <tbody>\n",
       "    <tr>\n",
       "      <th>0</th>\n",
       "      <td>No Urgent Place</td>\n",
       "      <td>Alone</td>\n",
       "      <td>Sunny</td>\n",
       "      <td>55</td>\n",
       "      <td>2PM</td>\n",
       "      <td>Restaurant(&lt;20)</td>\n",
       "      <td>1d</td>\n",
       "      <td>Female</td>\n",
       "      <td>21</td>\n",
       "      <td>Unmarried partner</td>\n",
       "      <td>...</td>\n",
       "      <td>never</td>\n",
       "      <td>NaN</td>\n",
       "      <td>4~8</td>\n",
       "      <td>1~3</td>\n",
       "      <td>1</td>\n",
       "      <td>0</td>\n",
       "      <td>0</td>\n",
       "      <td>0</td>\n",
       "      <td>1</td>\n",
       "      <td>1</td>\n",
       "    </tr>\n",
       "    <tr>\n",
       "      <th>1</th>\n",
       "      <td>No Urgent Place</td>\n",
       "      <td>Friend(s)</td>\n",
       "      <td>Sunny</td>\n",
       "      <td>80</td>\n",
       "      <td>10AM</td>\n",
       "      <td>Coffee House</td>\n",
       "      <td>2h</td>\n",
       "      <td>Female</td>\n",
       "      <td>21</td>\n",
       "      <td>Unmarried partner</td>\n",
       "      <td>...</td>\n",
       "      <td>never</td>\n",
       "      <td>NaN</td>\n",
       "      <td>4~8</td>\n",
       "      <td>1~3</td>\n",
       "      <td>1</td>\n",
       "      <td>0</td>\n",
       "      <td>0</td>\n",
       "      <td>0</td>\n",
       "      <td>1</td>\n",
       "      <td>0</td>\n",
       "    </tr>\n",
       "    <tr>\n",
       "      <th>2</th>\n",
       "      <td>No Urgent Place</td>\n",
       "      <td>Friend(s)</td>\n",
       "      <td>Sunny</td>\n",
       "      <td>80</td>\n",
       "      <td>10AM</td>\n",
       "      <td>Carry out &amp; Take away</td>\n",
       "      <td>2h</td>\n",
       "      <td>Female</td>\n",
       "      <td>21</td>\n",
       "      <td>Unmarried partner</td>\n",
       "      <td>...</td>\n",
       "      <td>never</td>\n",
       "      <td>NaN</td>\n",
       "      <td>4~8</td>\n",
       "      <td>1~3</td>\n",
       "      <td>1</td>\n",
       "      <td>1</td>\n",
       "      <td>0</td>\n",
       "      <td>0</td>\n",
       "      <td>1</td>\n",
       "      <td>1</td>\n",
       "    </tr>\n",
       "    <tr>\n",
       "      <th>3</th>\n",
       "      <td>No Urgent Place</td>\n",
       "      <td>Friend(s)</td>\n",
       "      <td>Sunny</td>\n",
       "      <td>80</td>\n",
       "      <td>2PM</td>\n",
       "      <td>Coffee House</td>\n",
       "      <td>2h</td>\n",
       "      <td>Female</td>\n",
       "      <td>21</td>\n",
       "      <td>Unmarried partner</td>\n",
       "      <td>...</td>\n",
       "      <td>never</td>\n",
       "      <td>NaN</td>\n",
       "      <td>4~8</td>\n",
       "      <td>1~3</td>\n",
       "      <td>1</td>\n",
       "      <td>1</td>\n",
       "      <td>0</td>\n",
       "      <td>0</td>\n",
       "      <td>1</td>\n",
       "      <td>0</td>\n",
       "    </tr>\n",
       "    <tr>\n",
       "      <th>4</th>\n",
       "      <td>No Urgent Place</td>\n",
       "      <td>Friend(s)</td>\n",
       "      <td>Sunny</td>\n",
       "      <td>80</td>\n",
       "      <td>2PM</td>\n",
       "      <td>Coffee House</td>\n",
       "      <td>1d</td>\n",
       "      <td>Female</td>\n",
       "      <td>21</td>\n",
       "      <td>Unmarried partner</td>\n",
       "      <td>...</td>\n",
       "      <td>never</td>\n",
       "      <td>NaN</td>\n",
       "      <td>4~8</td>\n",
       "      <td>1~3</td>\n",
       "      <td>1</td>\n",
       "      <td>1</td>\n",
       "      <td>0</td>\n",
       "      <td>0</td>\n",
       "      <td>1</td>\n",
       "      <td>0</td>\n",
       "    </tr>\n",
       "  </tbody>\n",
       "</table>\n",
       "<p>5 rows × 26 columns</p>\n",
       "</div>"
      ],
      "text/plain": [
       "       destination  passanger weather  temperature  time  \\\n",
       "0  No Urgent Place      Alone   Sunny           55   2PM   \n",
       "1  No Urgent Place  Friend(s)   Sunny           80  10AM   \n",
       "2  No Urgent Place  Friend(s)   Sunny           80  10AM   \n",
       "3  No Urgent Place  Friend(s)   Sunny           80   2PM   \n",
       "4  No Urgent Place  Friend(s)   Sunny           80   2PM   \n",
       "\n",
       "                  coupon expiration  gender age      maritalStatus  ...  \\\n",
       "0        Restaurant(<20)         1d  Female  21  Unmarried partner  ...   \n",
       "1           Coffee House         2h  Female  21  Unmarried partner  ...   \n",
       "2  Carry out & Take away         2h  Female  21  Unmarried partner  ...   \n",
       "3           Coffee House         2h  Female  21  Unmarried partner  ...   \n",
       "4           Coffee House         1d  Female  21  Unmarried partner  ...   \n",
       "\n",
       "   CoffeeHouse CarryAway RestaurantLessThan20 Restaurant20To50  \\\n",
       "0        never       NaN                  4~8              1~3   \n",
       "1        never       NaN                  4~8              1~3   \n",
       "2        never       NaN                  4~8              1~3   \n",
       "3        never       NaN                  4~8              1~3   \n",
       "4        never       NaN                  4~8              1~3   \n",
       "\n",
       "  toCoupon_GEQ5min toCoupon_GEQ15min toCoupon_GEQ25min direction_same  \\\n",
       "0                1                 0                 0              0   \n",
       "1                1                 0                 0              0   \n",
       "2                1                 1                 0              0   \n",
       "3                1                 1                 0              0   \n",
       "4                1                 1                 0              0   \n",
       "\n",
       "  direction_opp  Y  \n",
       "0             1  1  \n",
       "1             1  0  \n",
       "2             1  1  \n",
       "3             1  0  \n",
       "4             1  0  \n",
       "\n",
       "[5 rows x 26 columns]"
      ]
     },
     "execution_count": 415,
     "metadata": {},
     "output_type": "execute_result"
    }
   ],
   "source": [
    "data.head()"
   ]
  },
  {
   "cell_type": "markdown",
   "metadata": {
    "id": "GcDs78ZH_qRH"
   },
   "source": [
    "2. Investigate the dataset for missing or problematic data."
   ]
  },
  {
   "cell_type": "code",
   "execution_count": 416,
   "metadata": {
    "id": "6CwL6oWj_qRH"
   },
   "outputs": [
    {
     "name": "stdout",
     "output_type": "stream",
     "text": [
      "<class 'pandas.core.frame.DataFrame'>\n",
      "RangeIndex: 12684 entries, 0 to 12683\n",
      "Data columns (total 26 columns):\n",
      " #   Column                Non-Null Count  Dtype \n",
      "---  ------                --------------  ----- \n",
      " 0   destination           12684 non-null  object\n",
      " 1   passanger             12684 non-null  object\n",
      " 2   weather               12684 non-null  object\n",
      " 3   temperature           12684 non-null  int64 \n",
      " 4   time                  12684 non-null  object\n",
      " 5   coupon                12684 non-null  object\n",
      " 6   expiration            12684 non-null  object\n",
      " 7   gender                12684 non-null  object\n",
      " 8   age                   12684 non-null  object\n",
      " 9   maritalStatus         12684 non-null  object\n",
      " 10  has_children          12684 non-null  int64 \n",
      " 11  education             12684 non-null  object\n",
      " 12  occupation            12684 non-null  object\n",
      " 13  income                12684 non-null  object\n",
      " 14  car                   108 non-null    object\n",
      " 15  Bar                   12577 non-null  object\n",
      " 16  CoffeeHouse           12467 non-null  object\n",
      " 17  CarryAway             12533 non-null  object\n",
      " 18  RestaurantLessThan20  12554 non-null  object\n",
      " 19  Restaurant20To50      12495 non-null  object\n",
      " 20  toCoupon_GEQ5min      12684 non-null  int64 \n",
      " 21  toCoupon_GEQ15min     12684 non-null  int64 \n",
      " 22  toCoupon_GEQ25min     12684 non-null  int64 \n",
      " 23  direction_same        12684 non-null  int64 \n",
      " 24  direction_opp         12684 non-null  int64 \n",
      " 25  Y                     12684 non-null  int64 \n",
      "dtypes: int64(8), object(18)\n",
      "memory usage: 2.5+ MB\n"
     ]
    }
   ],
   "source": [
    "data.info()"
   ]
  },
  {
   "cell_type": "code",
   "execution_count": 417,
   "metadata": {},
   "outputs": [
    {
     "data": {
      "text/plain": [
       "temperature\n",
       "80    6528\n",
       "55    3840\n",
       "30    2316\n",
       "Name: count, dtype: int64"
      ]
     },
     "execution_count": 417,
     "metadata": {},
     "output_type": "execute_result"
    }
   ],
   "source": [
    "# value counts for car\n",
    "data['car'].value_counts()\n",
    "\n",
    "data['time'].value_counts()\n",
    "\n",
    "data['temperature'].value_counts()"
   ]
  },
  {
   "cell_type": "markdown",
   "metadata": {
    "id": "bSdVSpYB_qRH"
   },
   "source": [
    "3. Decide what to do about your missing data -- drop, replace, other..."
   ]
  },
  {
   "cell_type": "code",
   "execution_count": 418,
   "metadata": {
    "id": "tyvoAC5F_qRI"
   },
   "outputs": [
    {
     "data": {
      "text/html": [
       "<div>\n",
       "<style scoped>\n",
       "    .dataframe tbody tr th:only-of-type {\n",
       "        vertical-align: middle;\n",
       "    }\n",
       "\n",
       "    .dataframe tbody tr th {\n",
       "        vertical-align: top;\n",
       "    }\n",
       "\n",
       "    .dataframe thead th {\n",
       "        text-align: right;\n",
       "    }\n",
       "</style>\n",
       "<table border=\"1\" class=\"dataframe\">\n",
       "  <thead>\n",
       "    <tr style=\"text-align: right;\">\n",
       "      <th></th>\n",
       "      <th>destination</th>\n",
       "      <th>passenger</th>\n",
       "      <th>weather</th>\n",
       "      <th>temperature</th>\n",
       "      <th>time</th>\n",
       "      <th>coupon</th>\n",
       "      <th>expiration</th>\n",
       "      <th>gender</th>\n",
       "      <th>age</th>\n",
       "      <th>maritalStatus</th>\n",
       "      <th>...</th>\n",
       "      <th>CoffeeHouse</th>\n",
       "      <th>CarryAway</th>\n",
       "      <th>RestaurantLessThan20</th>\n",
       "      <th>Restaurant20To50</th>\n",
       "      <th>toCoupon_GEQ5min</th>\n",
       "      <th>toCoupon_GEQ15min</th>\n",
       "      <th>toCoupon_GEQ25min</th>\n",
       "      <th>direction_same</th>\n",
       "      <th>direction_opp</th>\n",
       "      <th>Y</th>\n",
       "    </tr>\n",
       "  </thead>\n",
       "  <tbody>\n",
       "    <tr>\n",
       "      <th>22</th>\n",
       "      <td>No Urgent Place</td>\n",
       "      <td>Alone</td>\n",
       "      <td>Sunny</td>\n",
       "      <td>55</td>\n",
       "      <td>2PM</td>\n",
       "      <td>Restaurant(&lt;20)</td>\n",
       "      <td>1d</td>\n",
       "      <td>Male</td>\n",
       "      <td>21</td>\n",
       "      <td>Single</td>\n",
       "      <td>...</td>\n",
       "      <td>less1</td>\n",
       "      <td>4~8</td>\n",
       "      <td>4~8</td>\n",
       "      <td>less1</td>\n",
       "      <td>1</td>\n",
       "      <td>0</td>\n",
       "      <td>0</td>\n",
       "      <td>0</td>\n",
       "      <td>1</td>\n",
       "      <td>1</td>\n",
       "    </tr>\n",
       "    <tr>\n",
       "      <th>23</th>\n",
       "      <td>No Urgent Place</td>\n",
       "      <td>Friend(s)</td>\n",
       "      <td>Sunny</td>\n",
       "      <td>80</td>\n",
       "      <td>10AM</td>\n",
       "      <td>Coffee House</td>\n",
       "      <td>2h</td>\n",
       "      <td>Male</td>\n",
       "      <td>21</td>\n",
       "      <td>Single</td>\n",
       "      <td>...</td>\n",
       "      <td>less1</td>\n",
       "      <td>4~8</td>\n",
       "      <td>4~8</td>\n",
       "      <td>less1</td>\n",
       "      <td>1</td>\n",
       "      <td>0</td>\n",
       "      <td>0</td>\n",
       "      <td>0</td>\n",
       "      <td>1</td>\n",
       "      <td>0</td>\n",
       "    </tr>\n",
       "    <tr>\n",
       "      <th>24</th>\n",
       "      <td>No Urgent Place</td>\n",
       "      <td>Friend(s)</td>\n",
       "      <td>Sunny</td>\n",
       "      <td>80</td>\n",
       "      <td>10AM</td>\n",
       "      <td>Bar</td>\n",
       "      <td>1d</td>\n",
       "      <td>Male</td>\n",
       "      <td>21</td>\n",
       "      <td>Single</td>\n",
       "      <td>...</td>\n",
       "      <td>less1</td>\n",
       "      <td>4~8</td>\n",
       "      <td>4~8</td>\n",
       "      <td>less1</td>\n",
       "      <td>1</td>\n",
       "      <td>0</td>\n",
       "      <td>0</td>\n",
       "      <td>0</td>\n",
       "      <td>1</td>\n",
       "      <td>1</td>\n",
       "    </tr>\n",
       "    <tr>\n",
       "      <th>25</th>\n",
       "      <td>No Urgent Place</td>\n",
       "      <td>Friend(s)</td>\n",
       "      <td>Sunny</td>\n",
       "      <td>80</td>\n",
       "      <td>10AM</td>\n",
       "      <td>Carry out &amp; Take away</td>\n",
       "      <td>2h</td>\n",
       "      <td>Male</td>\n",
       "      <td>21</td>\n",
       "      <td>Single</td>\n",
       "      <td>...</td>\n",
       "      <td>less1</td>\n",
       "      <td>4~8</td>\n",
       "      <td>4~8</td>\n",
       "      <td>less1</td>\n",
       "      <td>1</td>\n",
       "      <td>1</td>\n",
       "      <td>0</td>\n",
       "      <td>0</td>\n",
       "      <td>1</td>\n",
       "      <td>0</td>\n",
       "    </tr>\n",
       "    <tr>\n",
       "      <th>26</th>\n",
       "      <td>No Urgent Place</td>\n",
       "      <td>Friend(s)</td>\n",
       "      <td>Sunny</td>\n",
       "      <td>80</td>\n",
       "      <td>2PM</td>\n",
       "      <td>Coffee House</td>\n",
       "      <td>1d</td>\n",
       "      <td>Male</td>\n",
       "      <td>21</td>\n",
       "      <td>Single</td>\n",
       "      <td>...</td>\n",
       "      <td>less1</td>\n",
       "      <td>4~8</td>\n",
       "      <td>4~8</td>\n",
       "      <td>less1</td>\n",
       "      <td>1</td>\n",
       "      <td>0</td>\n",
       "      <td>0</td>\n",
       "      <td>0</td>\n",
       "      <td>1</td>\n",
       "      <td>0</td>\n",
       "    </tr>\n",
       "  </tbody>\n",
       "</table>\n",
       "<p>5 rows × 25 columns</p>\n",
       "</div>"
      ],
      "text/plain": [
       "        destination  passenger weather  temperature  time  \\\n",
       "22  No Urgent Place      Alone   Sunny           55   2PM   \n",
       "23  No Urgent Place  Friend(s)   Sunny           80  10AM   \n",
       "24  No Urgent Place  Friend(s)   Sunny           80  10AM   \n",
       "25  No Urgent Place  Friend(s)   Sunny           80  10AM   \n",
       "26  No Urgent Place  Friend(s)   Sunny           80   2PM   \n",
       "\n",
       "                   coupon expiration gender age maritalStatus  ...  \\\n",
       "22        Restaurant(<20)         1d   Male  21        Single  ...   \n",
       "23           Coffee House         2h   Male  21        Single  ...   \n",
       "24                    Bar         1d   Male  21        Single  ...   \n",
       "25  Carry out & Take away         2h   Male  21        Single  ...   \n",
       "26           Coffee House         1d   Male  21        Single  ...   \n",
       "\n",
       "    CoffeeHouse CarryAway RestaurantLessThan20 Restaurant20To50  \\\n",
       "22        less1       4~8                  4~8            less1   \n",
       "23        less1       4~8                  4~8            less1   \n",
       "24        less1       4~8                  4~8            less1   \n",
       "25        less1       4~8                  4~8            less1   \n",
       "26        less1       4~8                  4~8            less1   \n",
       "\n",
       "   toCoupon_GEQ5min toCoupon_GEQ15min toCoupon_GEQ25min direction_same  \\\n",
       "22                1                 0                 0              0   \n",
       "23                1                 0                 0              0   \n",
       "24                1                 0                 0              0   \n",
       "25                1                 1                 0              0   \n",
       "26                1                 0                 0              0   \n",
       "\n",
       "   direction_opp  Y  \n",
       "22             1  1  \n",
       "23             1  0  \n",
       "24             1  1  \n",
       "25             1  0  \n",
       "26             1  0  \n",
       "\n",
       "[5 rows x 25 columns]"
      ]
     },
     "execution_count": 418,
     "metadata": {},
     "output_type": "execute_result"
    }
   ],
   "source": [
    "# Drop car column; 99% of values are missing\n",
    "data_ver2 = data.drop('car', axis=1)\n",
    "data_ver2.columns\n",
    "\n",
    "# Drop rows with missing values\n",
    "data_ver3 = data_ver2.dropna()\n",
    "\n",
    "# rename passanger column; to correct misspelling\n",
    "data_ver3 = data_ver3.rename(columns={'passanger': 'passenger'})\n",
    "\n",
    "data_ver3.head()\n"
   ]
  },
  {
   "cell_type": "markdown",
   "metadata": {
    "id": "YE6oJbXd_qRI"
   },
   "source": [
    "4. What proportion of the total observations chose to accept the coupon?\n",
    "\n"
   ]
  },
  {
   "cell_type": "code",
   "execution_count": 419,
   "metadata": {
    "id": "86GGqBTv_qRI"
   },
   "outputs": [
    {
     "name": "stdout",
     "output_type": "stream",
     "text": [
      "Proportion of observations that accepted coupon: 0.5693352098683666\n"
     ]
    }
   ],
   "source": [
    "# Based on dataframe with missing values dropped\n",
    "# Count of Y = 1 (number of people who accepted the coupon)\n",
    "count_Y1 = data_ver3['Y'].value_counts()[1]\n",
    "\n",
    "# Count of all values in column Y\n",
    "total_count_Y = data_ver3['Y'].count()\n",
    "\n",
    "# Proportion of Y = 1 in total Y \n",
    "Y1_proportion_of_Y = (count_Y1 / total_count_Y)\n",
    "\n",
    "print(f\"Proportion of observations that accepted coupon: {Y1_proportion_of_Y}\")"
   ]
  },
  {
   "cell_type": "markdown",
   "metadata": {
    "id": "vflz0DoE_qRI"
   },
   "source": [
    "5. Use a bar plot to visualize the `coupon` column."
   ]
  },
  {
   "cell_type": "code",
   "execution_count": 420,
   "metadata": {
    "id": "dHFh3E45_qRI"
   },
   "outputs": [
    {
     "data": {
      "image/png": "[encoded data removed]",
      "text/plain": [
       "<Figure size 640x480 with 1 Axes>"
      ]
     },
     "metadata": {},
     "output_type": "display_data"
    }
   ],
   "source": [
    "barplot_coupon = sns.barplot(data_ver3, x = 'coupon', y = 'temperature', hue = 'time', errorbar = None)\n",
    "barplot_coupon.set_xlabel('Type of Coupon')\n",
    "barplot_coupon.set_ylabel(\"Temperature (mean)\")\n",
    "plt.xticks(rotation=45, ha='right')\n",
    "barplot_coupon.set_title(\"Type of Coupon, by Temperature and Time When Coupon Received\")\n",
    "plt.savefig(\"images/barplot_coupon\", bbox_inches='tight', dpi=300)\n",
    "plt.show()"
   ]
  },
  {
   "cell_type": "markdown",
   "metadata": {
    "id": "Qw4lCyx2_qRI"
   },
   "source": [
    "6. Use a histogram to visualize the temperature column."
   ]
  },
  {
   "cell_type": "code",
   "execution_count": 421,
   "metadata": {
    "id": "Yg9Anv71_qRI"
   },
   "outputs": [
    {
     "data": {
      "image/png": "[encoded data removed]",
      "text/plain": [
       "<Figure size 640x480 with 1 Axes>"
      ]
     },
     "metadata": {},
     "output_type": "display_data"
    }
   ],
   "source": [
    "histogram_temperature = sns.histplot(data_ver3, x = 'temperature', binwidth = 5)\n",
    "histogram_temperature.set_title('Histogram of Temperature')\n",
    "plt.savefig(\"images/histogram_temperature\", bbox_inches='tight', dpi=300)\n",
    "plt.show()"
   ]
  },
  {
   "cell_type": "code",
   "execution_count": 422,
   "metadata": {
    "id": "zLtOaJQk_qRI"
   },
   "outputs": [
    {
     "data": {
      "text/plain": [
       "coupon\n",
       "Coffee House             3816\n",
       "Restaurant(<20)          2653\n",
       "Carry out & Take away    2280\n",
       "Bar                      1913\n",
       "Restaurant(20-50)        1417\n",
       "Name: count, dtype: int64"
      ]
     },
     "execution_count": 422,
     "metadata": {},
     "output_type": "execute_result"
    }
   ],
   "source": [
    "data_ver3['coupon'].value_counts()"
   ]
  },
  {
   "cell_type": "code",
   "execution_count": 423,
   "metadata": {
    "id": "7GBHZKBp_qRJ"
   },
   "outputs": [
    {
     "data": {
      "text/plain": [
       "maritalStatus\n",
       "Married partner      4831\n",
       "Single               4588\n",
       "Unmarried partner    2048\n",
       "Divorced              504\n",
       "Widowed               108\n",
       "Name: count, dtype: int64"
      ]
     },
     "execution_count": 423,
     "metadata": {},
     "output_type": "execute_result"
    }
   ],
   "source": [
    "data_ver3['maritalStatus'].value_counts()"
   ]
  },
  {
   "cell_type": "code",
   "execution_count": 424,
   "metadata": {
    "id": "Y5nBUA-j_qRJ"
   },
   "outputs": [
    {
     "data": {
      "text/plain": [
       "occupation\n",
       "Unemployed                                   1814\n",
       "Student                                      1497\n",
       "Computer & Mathematical                      1368\n",
       "Sales & Related                              1072\n",
       "Education&Training&Library                    855\n",
       "Management                                    772\n",
       "Office & Administrative Support               617\n",
       "Arts Design Entertainment Sports & Media      564\n",
       "Business & Financial                          516\n",
       "Retired                                       473\n",
       "Food Preparation & Serving Related            276\n",
       "Healthcare Support                            242\n",
       "Healthcare Practitioners & Technical          222\n",
       "Legal                                         219\n",
       "Community & Social Services                   219\n",
       "Transportation & Material Moving              218\n",
       "Protective Service                            175\n",
       "Architecture & Engineering                    175\n",
       "Life Physical Social Science                  170\n",
       "Construction & Extraction                     154\n",
       "Personal Care & Service                       153\n",
       "Installation Maintenance & Repair             133\n",
       "Production Occupations                         88\n",
       "Building & Grounds Cleaning & Maintenance      44\n",
       "Farming Fishing & Forestry                     43\n",
       "Name: count, dtype: int64"
      ]
     },
     "execution_count": 424,
     "metadata": {},
     "output_type": "execute_result"
    }
   ],
   "source": [
    "data_ver3['occupation'].value_counts()"
   ]
  },
  {
   "cell_type": "code",
   "execution_count": null,
   "metadata": {
    "id": "ShcUC-Vm_qRJ"
   },
   "outputs": [],
   "source": []
  },
  {
   "cell_type": "markdown",
   "metadata": {
    "id": "FupfgeJk_qRJ"
   },
   "source": [
    "**Investigating the Bar Coupons**\n",
    "\n",
    "Now, we will lead you through an exploration of just the bar related coupons.  \n",
    "\n",
    "1. Create a new `DataFrame` that contains just the bar coupons.\n"
   ]
  },
  {
   "cell_type": "code",
   "execution_count": 425,
   "metadata": {
    "id": "tMBlWuGq_qRJ"
   },
   "outputs": [
    {
     "name": "stdout",
     "output_type": "stream",
     "text": [
      "<class 'pandas.core.frame.DataFrame'>\n",
      "Index: 1913 entries, 24 to 12682\n",
      "Data columns (total 25 columns):\n",
      " #   Column                Non-Null Count  Dtype \n",
      "---  ------                --------------  ----- \n",
      " 0   destination           1913 non-null   object\n",
      " 1   passenger             1913 non-null   object\n",
      " 2   weather               1913 non-null   object\n",
      " 3   temperature           1913 non-null   int64 \n",
      " 4   time                  1913 non-null   object\n",
      " 5   coupon                1913 non-null   object\n",
      " 6   expiration            1913 non-null   object\n",
      " 7   gender                1913 non-null   object\n",
      " 8   age                   1913 non-null   object\n",
      " 9   maritalStatus         1913 non-null   object\n",
      " 10  has_children          1913 non-null   int64 \n",
      " 11  education             1913 non-null   object\n",
      " 12  occupation            1913 non-null   object\n",
      " 13  income                1913 non-null   object\n",
      " 14  Bar                   1913 non-null   object\n",
      " 15  CoffeeHouse           1913 non-null   object\n",
      " 16  CarryAway             1913 non-null   object\n",
      " 17  RestaurantLessThan20  1913 non-null   object\n",
      " 18  Restaurant20To50      1913 non-null   object\n",
      " 19  toCoupon_GEQ5min      1913 non-null   int64 \n",
      " 20  toCoupon_GEQ15min     1913 non-null   int64 \n",
      " 21  toCoupon_GEQ25min     1913 non-null   int64 \n",
      " 22  direction_same        1913 non-null   int64 \n",
      " 23  direction_opp         1913 non-null   int64 \n",
      " 24  Y                     1913 non-null   int64 \n",
      "dtypes: int64(8), object(17)\n",
      "memory usage: 388.6+ KB\n"
     ]
    }
   ],
   "source": [
    "data_ver3_coupon_only = data_ver3[data_ver3['coupon'] == 'Bar']\n",
    "data_ver3_coupon_only.info()"
   ]
  },
  {
   "cell_type": "markdown",
   "metadata": {
    "id": "8ue6uCqf_qRJ"
   },
   "source": [
    "2. What proportion of bar coupons were accepted?\n"
   ]
  },
  {
   "cell_type": "code",
   "execution_count": 426,
   "metadata": {
    "id": "hSdte8Mi_qRK"
   },
   "outputs": [
    {
     "name": "stdout",
     "output_type": "stream",
     "text": [
      "Proportion of bar coupons accepted: 0.41191845269210664\n"
     ]
    }
   ],
   "source": [
    "# Count of Y = 1 (number of people who accepted the bar coupon)\n",
    "count_Y1_bar = data_ver3_coupon_only['Y'].value_counts()[1]\n",
    "\n",
    "# Count of all values in column Y\n",
    "total_count_Y_bar = data_ver3_coupon_only['Y'].count()\n",
    "\n",
    "# Proportion of Y = 1 in total Y \n",
    "Y1_proportion_of_Y_bar = (count_Y1_bar / total_count_Y_bar)\n",
    "\n",
    "print(f\"Proportion of bar coupons accepted: {Y1_proportion_of_Y_bar}\")"
   ]
  },
  {
   "cell_type": "markdown",
   "metadata": {
    "id": "85nA_iEi_qRK"
   },
   "source": [
    "3. Compare the acceptance rate between those who went to a bar 3 or fewer times a month to those who went more.\n"
   ]
  },
  {
   "cell_type": "code",
   "execution_count": 427,
   "metadata": {
    "id": "LBOrN-XM_qRK"
   },
   "outputs": [
    {
     "name": "stdout",
     "output_type": "stream",
     "text": [
      "Proportion of bar coupons accepted for people who went to a bar 3 or fewer times a month: 0.37267441860465117\n"
     ]
    }
   ],
   "source": [
    "bar3orless_list = ['never','less1', '1~3']\n",
    "data_ver3_coupon_only_bar3orless = data_ver3_coupon_only[data_ver3_coupon_only['Bar'].isin(bar3orless_list)]\n",
    "data_ver3_coupon_only_bar3orless['Bar'].value_counts()\n",
    "\n",
    "count_Y1_bar3orless = data_ver3_coupon_only_bar3orless['Y'].value_counts()[1]\n",
    "total_count_Y_bar3orless = data_ver3_coupon_only_bar3orless['Y'].count()\n",
    "Y1_proportion_of_Y_bar3orless = (count_Y1_bar3orless / total_count_Y_bar3orless)\n",
    "print(f\"Proportion of bar coupons accepted for people who went to a bar 3 or fewer times a month: {Y1_proportion_of_Y_bar3orless}\")\n"
   ]
  },
  {
   "cell_type": "code",
   "execution_count": 428,
   "metadata": {
    "id": "LBOrN-XM_qRK"
   },
   "outputs": [
    {
     "name": "stdout",
     "output_type": "stream",
     "text": [
      "Proportion of bar coupons accepted for people who went to a bar 3 or fewer times a month: 0.37267441860465117\n"
     ]
    }
   ],
   "source": [
    "bar3orless_list = ['never','less1', '1~3']\n",
    "data_ver3_coupon_only_bar3orless = data_ver3_coupon_only[data_ver3_coupon_only['Bar'].isin(bar3orless_list)]\n",
    "data_ver3_coupon_only_bar3orless['Bar'].value_counts()\n",
    "\n",
    "count_Y1_bar3orless = data_ver3_coupon_only_bar3orless['Y'].value_counts()[1]\n",
    "total_count_Y_bar3orless = data_ver3_coupon_only_bar3orless['Y'].count()\n",
    "Y1_proportion_of_Y_bar3orless = (count_Y1_bar3orless / total_count_Y_bar3orless)\n",
    "print(f\"Proportion of bar coupons accepted for people who went to a bar 3 or fewer times a month: {Y1_proportion_of_Y_bar3orless}\")\n"
   ]
  },
  {
   "cell_type": "code",
   "execution_count": null,
   "metadata": {},
   "outputs": [],
   "source": []
  },
  {
   "cell_type": "code",
   "execution_count": null,
   "metadata": {},
   "outputs": [],
   "source": []
  },
  {
   "cell_type": "code",
   "execution_count": 429,
   "metadata": {
    "id": "bf28bbeX_qRK"
   },
   "outputs": [
    {
     "name": "stdout",
     "output_type": "stream",
     "text": [
      "Proportion of bar coupons accepted for people who went to a bar 4 or more times a month: 0.7616580310880829\n"
     ]
    }
   ],
   "source": [
    "bar4ormore_list = ['4~8','gt8']\n",
    "data_ver3_coupon_only_bar4ormore = data_ver3_coupon_only[data_ver3_coupon_only['Bar'].isin(bar4ormore_list)]\n",
    "data_ver3_coupon_only_bar4ormore['Bar'].value_counts()\n",
    "\n",
    "count_Y1_bar4ormore = data_ver3_coupon_only_bar4ormore['Y'].value_counts()[1]\n",
    "total_count_Y_bar4ormore = data_ver3_coupon_only_bar4ormore['Y'].count()\n",
    "Y1_proportion_of_Y_bar4ormore = (count_Y1_bar4ormore / total_count_Y_bar4ormore)\n",
    "print(f\"Proportion of bar coupons accepted for people who went to a bar 4 or more times a month: {Y1_proportion_of_Y_bar4ormore}\")\n"
   ]
  },
  {
   "cell_type": "markdown",
   "metadata": {
    "id": "RBgcQwH4_qRK"
   },
   "source": [
    "4. Compare the acceptance rate between drivers who go to a bar more than once a month and are over the age of 25 to the all others.  Is there a difference?\n"
   ]
  },
  {
   "cell_type": "code",
   "execution_count": 430,
   "metadata": {
    "id": "0c71cQhu_qRL"
   },
   "outputs": [
    {
     "name": "stdout",
     "output_type": "stream",
     "text": [
      "Proportion of bar coupons accepted for people over age 25 who went to a bar more than once a month: 0.6898263027295285\n"
     ]
    }
   ],
   "source": [
    "barmorethan1_list = ['1~3', '4~8','gt8']\n",
    "ageover25_list = ['26','31', '36', '41', '46', '50plus']\n",
    "data_ver3_coupon_only_barmorethan1 = data_ver3_coupon_only[data_ver3_coupon_only['Bar'].isin(barmorethan1_list)]\n",
    "data_ver3_coupon_only_barmorethan1_ageover25 = data_ver3_coupon_only_barmorethan1[data_ver3_coupon_only_barmorethan1['age'].isin(ageover25_list)]\n",
    "# data_ver3_coupon_only_barmorethan1_ageover25.head()\n",
    "data_ver3_coupon_only_barmorethan1_ageover25['Bar'].value_counts()\n",
    "\n",
    "count_Y1_barmorethan1_ageover25 = data_ver3_coupon_only_barmorethan1_ageover25['Y'].value_counts()[1]\n",
    "total_count_Y_barmorethan1_ageover25 = data_ver3_coupon_only_barmorethan1_ageover25['Y'].count()\n",
    "Y1_proportion_of_Y_barmorethan1_ageover25 = (count_Y1_barmorethan1_ageover25 / total_count_Y_barmorethan1_ageover25)\n",
    "print(f\"Proportion of bar coupons accepted for people over age 25 who went to a bar more than once a month: {Y1_proportion_of_Y_barmorethan1_ageover25}\")"
   ]
  },
  {
   "cell_type": "code",
   "execution_count": 431,
   "metadata": {
    "id": "QEsBkvIN_qRL"
   },
   "outputs": [
    {
     "name": "stdout",
     "output_type": "stream",
     "text": [
      "Proportion of bar coupons accepted for people age 25 and under who went to a bar less than once a month: 0.3883495145631068\n"
     ]
    }
   ],
   "source": [
    "barlessthan1_list = ['never', 'less1']\n",
    "age25under_list = ['21','below21']\n",
    "data_ver3_coupon_only_barlessthan1 = data_ver3_coupon_only[data_ver3_coupon_only['Bar'].isin(barlessthan1_list)]\n",
    "data_ver3_coupon_only_barlessthan1_age25under = data_ver3_coupon_only_barlessthan1[data_ver3_coupon_only_barlessthan1['age'].isin(age25under_list)]\n",
    "# data_ver3_coupon_only_barlessthan1_age25under.head()\n",
    "data_ver3_coupon_only_barlessthan1_age25under['Bar'].value_counts()\n",
    "\n",
    "count_Y1_barlessthan1_age25under = data_ver3_coupon_only_barlessthan1_age25under['Y'].value_counts()[1]\n",
    "total_count_Y_barlessthan1_age25under = data_ver3_coupon_only_barlessthan1_age25under['Y'].count()\n",
    "Y1_proportion_of_Y_barlessthan1_age25under = (count_Y1_barlessthan1_age25under / total_count_Y_barlessthan1_age25under)\n",
    "print(f\"Proportion of bar coupons accepted for people age 25 and under who went to a bar less than once a month: {Y1_proportion_of_Y_barlessthan1_age25under}\")\n"
   ]
  },
  {
   "cell_type": "markdown",
   "metadata": {
    "id": "S4RKT4PJ_qRK"
   },
   "source": [
    "5. Use the same process to compare the acceptance rate between drivers who go to bars more than once a month and had passengers that were not a kid and had occupations other than farming, fishing, or forestry.\n"
   ]
  },
  {
   "cell_type": "code",
   "execution_count": 432,
   "metadata": {
    "id": "sENaI2Tg_qRK"
   },
   "outputs": [
    {
     "name": "stdout",
     "output_type": "stream",
     "text": [
      "Proportion of bar coupons accepted for people who went to a bar more than once a month and had a passenger who was not a kid: 0.6898263027295285\n"
     ]
    }
   ],
   "source": [
    "barmorethan1_list = ['1~3', '4~8','gt8']\n",
    "passengernotkid_list = ['Alone', 'Friend(s)', 'Partner']\n",
    "\n",
    "data_ver3_coupon_only_barmorethan1 = data_ver3_coupon_only[data_ver3_coupon_only['Bar'].isin(barmorethan1_list)]\n",
    "data_ver3_coupon_only_barmorethan1_passengernotkid = data_ver3_coupon_only_barmorethan1[data_ver3_coupon_only_barmorethan1['passenger'].isin(passengernotkid_list)]\n",
    "\n",
    "data_ver3_coupon_only_barmorethan1_passengernotkid.head()\n",
    "# data_ver3_coupon_only_barmorethan1_passengernotkid['passenger'].value_counts()\n",
    "\n",
    "count_Y1_barmorethan1_passengernotkid = data_ver3_coupon_only_barmorethan1_passengernotkid['Y'].value_counts()[1]\n",
    "total_count_Y_barmorethan1_passengernotkid = data_ver3_coupon_only_barmorethan1_passengernotkid['Y'].count()\n",
    "Y1_proportion_of_Y_barmorethan1_passengernotkid = (count_Y1_barmorethan1_passengernotkid / total_count_Y_barmorethan1_passengernotkid)\n",
    "print(f\"Proportion of bar coupons accepted for people who went to a bar more than once a month and had a passenger who was not a kid: {Y1_proportion_of_Y_barmorethan1_ageover25}\")"
   ]
  },
  {
   "cell_type": "code",
   "execution_count": null,
   "metadata": {},
   "outputs": [],
   "source": []
  },
  {
   "cell_type": "code",
   "execution_count": 433,
   "metadata": {
    "id": "fTC2WGE3_qRL"
   },
   "outputs": [
    {
     "name": "stdout",
     "output_type": "stream",
     "text": [
      "Proportion of bar coupons accepted for people who do not work in farming, fishing or forestry: 0.4117647058823529\n"
     ]
    }
   ],
   "source": [
    "occupation_notfarmfishforest_list = ['Unemployed', 'Student', 'Computer & Mathematical', 'Sales & Related', 'Education&Training&Library', 'Management', 'Office & Administrative Support', 'Arts Design Entertainment Sports & Media', 'Business & Financial', 'Retired', 'Food Preparation & Serving Related', 'Healthcare Support', 'Healthcare Practitioners & Technical', 'Legal', 'Community & Social Services', 'Transportation & Material Moving', 'Protective Service', 'Architecture & Engineering', 'Life Physical Social Science', 'Construction & Extraction', 'Personal Care & Service', 'Installation Maintenance & Repair', 'Production Occupations', 'Building & Grounds Cleaning & Maintenance']\n",
    "\n",
    "data_ver3_coupon_only_occupation_notfarmfishforest = data_ver3_coupon_only[data_ver3_coupon_only['occupation'].isin(occupation_notfarmfishforest_list)]\n",
    "\n",
    "# data_ver3_coupon_only_occupation_notfarmfishforest.head()\n",
    "data_ver3_coupon_only_occupation_notfarmfishforest['occupation'].value_counts()\n",
    "\n",
    "count_Y1_occupation_notfarmfishforest = data_ver3_coupon_only_occupation_notfarmfishforest['Y'].value_counts()[1]\n",
    "total_count_Y_occupation_notfarmfishforest = data_ver3_coupon_only_occupation_notfarmfishforest['Y'].count()\n",
    "Y1_proportion_of_Y_occupation_notfarmfishforest = (count_Y1_occupation_notfarmfishforest / total_count_Y_occupation_notfarmfishforest)\n",
    "print(f\"Proportion of bar coupons accepted for people who do not work in farming, fishing or forestry: {Y1_proportion_of_Y_occupation_notfarmfishforest}\")\n"
   ]
  },
  {
   "cell_type": "markdown",
   "metadata": {
    "id": "n2LIUTil_qRK"
   },
   "source": [
    "6. Compare the acceptance rates between those drivers who:\n",
    "\n",
    "- go to bars more than once a month, had passengers that were not a kid, and were not widowed *OR*\n",
    "- go to bars more than once a month and are under the age of 30 *OR*\n",
    "- go to cheap restaurants more than 4 times a month and income is less than 50K.\n",
    "\n"
   ]
  },
  {
   "cell_type": "code",
   "execution_count": 434,
   "metadata": {
    "id": "aK_wEzx7_qRK"
   },
   "outputs": [
    {
     "name": "stdout",
     "output_type": "stream",
     "text": [
      "Proportion of bar coupons accepted by people who went to a bar more than once a month and were not widowed: 0.6898263027295285\n"
     ]
    }
   ],
   "source": [
    "notwidowed_list = ['Married partner', 'Single', 'Unmarried partner', 'Divorced']\n",
    "\n",
    "data_ver3_coupon_only_barmorethan1_notwidowed = data_ver3_coupon_only_barmorethan1[data_ver3_coupon_only_barmorethan1['maritalStatus'].isin(notwidowed_list)]\n",
    "\n",
    "# data_ver3_coupon_only_barmorethan1_notwidowed.head()\n",
    "data_ver3_coupon_only_barmorethan1_notwidowed['maritalStatus'].value_counts()\n",
    "\n",
    "count_Y1_barmorethan1_notwidowed = data_ver3_coupon_only_barmorethan1_notwidowed['Y'].value_counts()[1]\n",
    "total_count_Y_barmorethan1_notwidowed = data_ver3_coupon_only_barmorethan1_notwidowed['Y'].count()\n",
    "Y1_proportion_of_Y_barmorethan1_notwidowed = (count_Y1_barmorethan1_notwidowed / total_count_Y_barmorethan1_notwidowed)\n",
    "print(f\"Proportion of bar coupons accepted by people who went to a bar more than once a month and were not widowed: {Y1_proportion_of_Y_barmorethan1_ageover25}\")"
   ]
  },
  {
   "cell_type": "code",
   "execution_count": 435,
   "metadata": {
    "id": "RrqUWn7d_qRL"
   },
   "outputs": [
    {
     "name": "stdout",
     "output_type": "stream",
     "text": [
      "Proportion of bar coupons accepted by people who went to a bar more than once a month and were less than 30: 0.6898263027295285\n"
     ]
    }
   ],
   "source": [
    "ageunder30_list = ['21', '26']\n",
    "\n",
    "data_ver3_coupon_only_barmorethan1_ageunder30 = data_ver3_coupon_only_barmorethan1[data_ver3_coupon_only_barmorethan1['age'].isin(ageunder30_list)]\n",
    "\n",
    "# data_ver3_coupon_only_barmorethan1_ageunder30.head()\n",
    "data_ver3_coupon_only_barmorethan1_ageunder30['age'].value_counts()\n",
    "\n",
    "count_Y1_barmorethan1_ageunder30 = data_ver3_coupon_only_barmorethan1_ageunder30['Y'].value_counts()[1]\n",
    "total_count_Y_barmorethan1_ageunder30 = data_ver3_coupon_only_barmorethan1_ageunder30['Y'].count()\n",
    "Y1_proportion_of_Y_barmorethan1_ageunder30 = (count_Y1_barmorethan1_ageunder30 / total_count_Y_barmorethan1_ageunder30)\n",
    "print(f\"Proportion of bar coupons accepted by people who went to a bar more than once a month and were less than 30: {Y1_proportion_of_Y_barmorethan1_ageover25}\")"
   ]
  },
  {
   "cell_type": "markdown",
   "metadata": {
    "id": "v3fL3QkO_qRK"
   },
   "source": [
    "7.  Based on these observations, what do you hypothesize about drivers who accepted the bar coupons?"
   ]
  },
  {
   "cell_type": "code",
   "execution_count": 436,
   "metadata": {
    "id": "Y48naDFh_qRL"
   },
   "outputs": [
    {
     "name": "stdout",
     "output_type": "stream",
     "text": [
      "The data indicate that bar coupon acceptance is most closely and positively associated with how often the driver went to a bar monthly.\n",
      "\n",
      "The influence of age on bar coupon acceptance is unclear.\n",
      "\n",
      "There is some indication that drivers with occupations in farming, fisheries and forestry may be more likely to accept a bar coupon than other occupations.\n"
     ]
    }
   ],
   "source": [
    "print(\"The data indicate that bar coupon acceptance is most closely and positively associated with how often the driver went to a bar monthly.\\n\")\n",
    "\n",
    "print('The influence of age on bar coupon acceptance is unclear.\\n')\n",
    "\n",
    "print('There is some indication that drivers with occupations in farming, fisheries and forestry may be more likely to accept a bar coupon than other occupations.')"
   ]
  },
  {
   "cell_type": "markdown",
   "metadata": {
    "id": "r4Hu1zOb_qRL"
   },
   "source": [
    "### Independent Investigation\n",
    "\n",
    "Using the bar coupon example as motivation, you are to explore one of the other coupon groups and try to determine the characteristics of passengers who accept the coupons.  "
   ]
  },
  {
   "cell_type": "code",
   "execution_count": 437,
   "metadata": {
    "id": "_oykf8YP_qRL",
    "scrolled": true
   },
   "outputs": [
    {
     "name": "stdout",
     "output_type": "stream",
     "text": [
      "<class 'pandas.core.frame.DataFrame'>\n",
      "Index: 1913 entries, 24 to 12682\n",
      "Data columns (total 25 columns):\n",
      " #   Column                Non-Null Count  Dtype \n",
      "---  ------                --------------  ----- \n",
      " 0   destination           1913 non-null   object\n",
      " 1   passenger             1913 non-null   object\n",
      " 2   weather               1913 non-null   object\n",
      " 3   temperature           1913 non-null   int64 \n",
      " 4   time                  1913 non-null   object\n",
      " 5   coupon                1913 non-null   object\n",
      " 6   expiration            1913 non-null   object\n",
      " 7   gender                1913 non-null   object\n",
      " 8   age                   1913 non-null   object\n",
      " 9   maritalStatus         1913 non-null   object\n",
      " 10  has_children          1913 non-null   int64 \n",
      " 11  education             1913 non-null   object\n",
      " 12  occupation            1913 non-null   object\n",
      " 13  income                1913 non-null   object\n",
      " 14  Bar                   1913 non-null   object\n",
      " 15  CoffeeHouse           1913 non-null   object\n",
      " 16  CarryAway             1913 non-null   object\n",
      " 17  RestaurantLessThan20  1913 non-null   object\n",
      " 18  Restaurant20To50      1913 non-null   object\n",
      " 19  toCoupon_GEQ5min      1913 non-null   int64 \n",
      " 20  toCoupon_GEQ15min     1913 non-null   int64 \n",
      " 21  toCoupon_GEQ25min     1913 non-null   int64 \n",
      " 22  direction_same        1913 non-null   int64 \n",
      " 23  direction_opp         1913 non-null   int64 \n",
      " 24  Y                     1913 non-null   int64 \n",
      "dtypes: int64(8), object(17)\n",
      "memory usage: 388.6+ KB\n"
     ]
    }
   ],
   "source": [
    "### Analysis of drivers who received coupons for more expensive restaurants\n",
    "\n",
    "# create dataframe where drivers only received coupons for more expensive restaurants\n",
    "data_ver3_coupon_Restaurant2050 = data_ver3[data_ver3['coupon'] == 'Restaurant(20-50)']\n",
    "data_ver3_coupon_only.info()\n"
   ]
  },
  {
   "cell_type": "code",
   "execution_count": 438,
   "metadata": {},
   "outputs": [
    {
     "name": "stdout",
     "output_type": "stream",
     "text": [
      "Proportion of more expensive restaurant coupons accepted: 0.44601270289343686\n"
     ]
    }
   ],
   "source": [
    "# Proportion of drivers who accepted coupon for more expensive restaurant\n",
    "\n",
    "# Count of Y = 1 (number of people who accepted the more expensive resto coupon)\n",
    "count_Y1_resto = data_ver3_coupon_Restaurant2050['Y'].value_counts()[1]\n",
    "\n",
    "# Count of all values in column Y\n",
    "total_count_Y_resto = data_ver3_coupon_Restaurant2050['Y'].count()\n",
    "\n",
    "# Proportion of Y = 1 in total Y \n",
    "Y1_proportion_of_Y_resto = (count_Y1_resto / total_count_Y_resto)\n",
    "\n",
    "print(f\"Proportion of more expensive restaurant coupons accepted: {Y1_proportion_of_Y_resto}\")"
   ]
  },
  {
   "cell_type": "code",
   "execution_count": 439,
   "metadata": {},
   "outputs": [
    {
     "name": "stdout",
     "output_type": "stream",
     "text": [
      "destination             object\n",
      "passenger               object\n",
      "weather                 object\n",
      "temperature              int64\n",
      "time                    object\n",
      "coupon                  object\n",
      "expiration              object\n",
      "gender                  object\n",
      "age                     object\n",
      "maritalStatus           object\n",
      "has_children             int64\n",
      "education               object\n",
      "occupation              object\n",
      "income                  object\n",
      "Bar                     object\n",
      "CoffeeHouse             object\n",
      "CarryAway               object\n",
      "RestaurantLessThan20    object\n",
      "Restaurant20To50        object\n",
      "toCoupon_GEQ5min         int64\n",
      "toCoupon_GEQ15min        int64\n",
      "toCoupon_GEQ25min        int64\n",
      "direction_same           int64\n",
      "direction_opp            int64\n",
      "Y                        int64\n",
      "time_24hour              int64\n",
      "dtype: object\n"
     ]
    },
    {
     "data": {
      "text/html": [
       "<div>\n",
       "<style scoped>\n",
       "    .dataframe tbody tr th:only-of-type {\n",
       "        vertical-align: middle;\n",
       "    }\n",
       "\n",
       "    .dataframe tbody tr th {\n",
       "        vertical-align: top;\n",
       "    }\n",
       "\n",
       "    .dataframe thead th {\n",
       "        text-align: right;\n",
       "    }\n",
       "</style>\n",
       "<table border=\"1\" class=\"dataframe\">\n",
       "  <thead>\n",
       "    <tr style=\"text-align: right;\">\n",
       "      <th></th>\n",
       "      <th>destination</th>\n",
       "      <th>passenger</th>\n",
       "      <th>weather</th>\n",
       "      <th>temperature</th>\n",
       "      <th>time</th>\n",
       "      <th>coupon</th>\n",
       "      <th>expiration</th>\n",
       "      <th>gender</th>\n",
       "      <th>age</th>\n",
       "      <th>maritalStatus</th>\n",
       "      <th>...</th>\n",
       "      <th>CarryAway</th>\n",
       "      <th>RestaurantLessThan20</th>\n",
       "      <th>Restaurant20To50</th>\n",
       "      <th>toCoupon_GEQ5min</th>\n",
       "      <th>toCoupon_GEQ15min</th>\n",
       "      <th>toCoupon_GEQ25min</th>\n",
       "      <th>direction_same</th>\n",
       "      <th>direction_opp</th>\n",
       "      <th>Y</th>\n",
       "      <th>time_24hour</th>\n",
       "    </tr>\n",
       "  </thead>\n",
       "  <tbody>\n",
       "    <tr>\n",
       "      <th>36</th>\n",
       "      <td>Home</td>\n",
       "      <td>Alone</td>\n",
       "      <td>Sunny</td>\n",
       "      <td>55</td>\n",
       "      <td>6PM</td>\n",
       "      <td>Restaurant(20-50)</td>\n",
       "      <td>1d</td>\n",
       "      <td>Male</td>\n",
       "      <td>21</td>\n",
       "      <td>Single</td>\n",
       "      <td>...</td>\n",
       "      <td>4~8</td>\n",
       "      <td>4~8</td>\n",
       "      <td>less1</td>\n",
       "      <td>1</td>\n",
       "      <td>1</td>\n",
       "      <td>0</td>\n",
       "      <td>0</td>\n",
       "      <td>1</td>\n",
       "      <td>0</td>\n",
       "      <td>18</td>\n",
       "    </tr>\n",
       "    <tr>\n",
       "      <th>40</th>\n",
       "      <td>Work</td>\n",
       "      <td>Alone</td>\n",
       "      <td>Sunny</td>\n",
       "      <td>80</td>\n",
       "      <td>7AM</td>\n",
       "      <td>Restaurant(20-50)</td>\n",
       "      <td>1d</td>\n",
       "      <td>Male</td>\n",
       "      <td>21</td>\n",
       "      <td>Single</td>\n",
       "      <td>...</td>\n",
       "      <td>4~8</td>\n",
       "      <td>4~8</td>\n",
       "      <td>less1</td>\n",
       "      <td>1</td>\n",
       "      <td>1</td>\n",
       "      <td>0</td>\n",
       "      <td>0</td>\n",
       "      <td>1</td>\n",
       "      <td>0</td>\n",
       "      <td>7</td>\n",
       "    </tr>\n",
       "    <tr>\n",
       "      <th>58</th>\n",
       "      <td>Home</td>\n",
       "      <td>Alone</td>\n",
       "      <td>Sunny</td>\n",
       "      <td>55</td>\n",
       "      <td>6PM</td>\n",
       "      <td>Restaurant(20-50)</td>\n",
       "      <td>1d</td>\n",
       "      <td>Male</td>\n",
       "      <td>46</td>\n",
       "      <td>Single</td>\n",
       "      <td>...</td>\n",
       "      <td>1~3</td>\n",
       "      <td>1~3</td>\n",
       "      <td>never</td>\n",
       "      <td>1</td>\n",
       "      <td>1</td>\n",
       "      <td>0</td>\n",
       "      <td>0</td>\n",
       "      <td>1</td>\n",
       "      <td>0</td>\n",
       "      <td>18</td>\n",
       "    </tr>\n",
       "    <tr>\n",
       "      <th>62</th>\n",
       "      <td>Work</td>\n",
       "      <td>Alone</td>\n",
       "      <td>Sunny</td>\n",
       "      <td>80</td>\n",
       "      <td>7AM</td>\n",
       "      <td>Restaurant(20-50)</td>\n",
       "      <td>1d</td>\n",
       "      <td>Male</td>\n",
       "      <td>46</td>\n",
       "      <td>Single</td>\n",
       "      <td>...</td>\n",
       "      <td>1~3</td>\n",
       "      <td>1~3</td>\n",
       "      <td>never</td>\n",
       "      <td>1</td>\n",
       "      <td>1</td>\n",
       "      <td>0</td>\n",
       "      <td>0</td>\n",
       "      <td>1</td>\n",
       "      <td>0</td>\n",
       "      <td>7</td>\n",
       "    </tr>\n",
       "    <tr>\n",
       "      <th>80</th>\n",
       "      <td>Home</td>\n",
       "      <td>Alone</td>\n",
       "      <td>Sunny</td>\n",
       "      <td>55</td>\n",
       "      <td>6PM</td>\n",
       "      <td>Restaurant(20-50)</td>\n",
       "      <td>1d</td>\n",
       "      <td>Male</td>\n",
       "      <td>46</td>\n",
       "      <td>Married partner</td>\n",
       "      <td>...</td>\n",
       "      <td>1~3</td>\n",
       "      <td>1~3</td>\n",
       "      <td>less1</td>\n",
       "      <td>1</td>\n",
       "      <td>1</td>\n",
       "      <td>0</td>\n",
       "      <td>0</td>\n",
       "      <td>1</td>\n",
       "      <td>0</td>\n",
       "      <td>18</td>\n",
       "    </tr>\n",
       "  </tbody>\n",
       "</table>\n",
       "<p>5 rows × 26 columns</p>\n",
       "</div>"
      ],
      "text/plain": [
       "   destination passenger weather  temperature time             coupon  \\\n",
       "36        Home     Alone   Sunny           55  6PM  Restaurant(20-50)   \n",
       "40        Work     Alone   Sunny           80  7AM  Restaurant(20-50)   \n",
       "58        Home     Alone   Sunny           55  6PM  Restaurant(20-50)   \n",
       "62        Work     Alone   Sunny           80  7AM  Restaurant(20-50)   \n",
       "80        Home     Alone   Sunny           55  6PM  Restaurant(20-50)   \n",
       "\n",
       "   expiration gender age    maritalStatus  ...  CarryAway  \\\n",
       "36         1d   Male  21           Single  ...        4~8   \n",
       "40         1d   Male  21           Single  ...        4~8   \n",
       "58         1d   Male  46           Single  ...        1~3   \n",
       "62         1d   Male  46           Single  ...        1~3   \n",
       "80         1d   Male  46  Married partner  ...        1~3   \n",
       "\n",
       "   RestaurantLessThan20 Restaurant20To50 toCoupon_GEQ5min toCoupon_GEQ15min  \\\n",
       "36                  4~8            less1                1                 1   \n",
       "40                  4~8            less1                1                 1   \n",
       "58                  1~3            never                1                 1   \n",
       "62                  1~3            never                1                 1   \n",
       "80                  1~3            less1                1                 1   \n",
       "\n",
       "   toCoupon_GEQ25min direction_same direction_opp  Y  time_24hour  \n",
       "36                 0              0             1  0           18  \n",
       "40                 0              0             1  0            7  \n",
       "58                 0              0             1  0           18  \n",
       "62                 0              0             1  0            7  \n",
       "80                 0              0             1  0           18  \n",
       "\n",
       "[5 rows x 26 columns]"
      ]
     },
     "execution_count": 439,
     "metadata": {},
     "output_type": "execute_result"
    }
   ],
   "source": [
    "# create new column for time based on 24 hour time\n",
    "data_ver3_coupon_Restaurant2050 = data_ver3_coupon_Restaurant2050.assign(time_24hour=lambda x: np.where(x['time'] == '6PM', '18', np.where(x['time'] == '7AM', '7', np.where(x['time'] == '10AM', '10', np.where(x['time'] == '10PM', '22', '14')))))\n",
    "\n",
    "# change data type of time_24hour to int\n",
    "data_ver3_coupon_Restaurant2050['time_24hour'] = data_ver3_coupon_Restaurant2050['time_24hour'].astype(int)\n",
    "print(data_ver3_coupon_Restaurant2050.dtypes)\n",
    "\n",
    "data_ver3_coupon_Restaurant2050.head()"
   ]
  },
  {
   "cell_type": "code",
   "execution_count": 440,
   "metadata": {},
   "outputs": [
    {
     "name": "stdout",
     "output_type": "stream",
     "text": [
      "Proportion of expensive restaurant coupons accepted by people who received it after 2 pm : 0.44666666666666666\n"
     ]
    }
   ],
   "source": [
    "# Analysis of drivers who accepted expensive resto coupon received 2 pm onward\n",
    "\n",
    "data_ver3_coupon_Restaurant2050['time_24hour'].value_counts()\n",
    "\n",
    "twoPMorlater_list = [14, 18, 22]\n",
    "data_ver3_coupon_Restaurant2050_twoPMorlater = data_ver3_coupon_Restaurant2050[data_ver3_coupon_Restaurant2050['time_24hour'].isin(twoPMorlater_list)]\n",
    "data_ver3_coupon_Restaurant2050_twoPMorlater['time_24hour'].value_counts()\n",
    "\n",
    "count_Y1_twoPMorlater = data_ver3_coupon_Restaurant2050_twoPMorlater['Y'].value_counts()[1]\n",
    "total_count_Y_twoPMorlater = data_ver3_coupon_Restaurant2050_twoPMorlater['Y'].count()\n",
    "Y1_proportion_of_Y_twoPMorlater = (count_Y1_twoPMorlater / total_count_Y_twoPMorlater)\n",
    "print(f\"Proportion of expensive restaurant coupons accepted by people who received it after 2 pm : {Y1_proportion_of_Y_twoPMorlater}\")\n"
   ]
  },
  {
   "cell_type": "code",
   "execution_count": 441,
   "metadata": {},
   "outputs": [
    {
     "name": "stdout",
     "output_type": "stream",
     "text": [
      "Proportion of expensive restaurant coupons accepted by people who received it after 2 pm and had no passenger: 0.44666666666666666\n"
     ]
    }
   ],
   "source": [
    "# Analysis of drivers who accepted expensive resto coupon received before 2 pm\n",
    "# and had no passengers\n",
    "# using a bit less cumbersome code that I should have used earlier\n",
    "\n",
    "data_ver3_coupon_Restaurant2050_twoPMorlater_nopassenger = data_ver3_coupon_Restaurant2050.query('time_24hour > 10 and passenger == \"Alone\"')\n",
    "# data_ver3_coupon_Restaurant2050_twoPMorlater_nopassenger.tail()\n",
    "\n",
    "count_Y1_twoPMorlater_nopassenger = data_ver3_coupon_Restaurant2050_twoPMorlater_nopassenger['Y'].value_counts()[1]\n",
    "total_count_Y_twoPMorlater_nopassenger = data_ver3_coupon_Restaurant2050_twoPMorlater_nopassenger['Y'].count()\n",
    "Y1_proportion_of_Y_twoPMorlater_nopassenger = (count_Y1_twoPMorlater_nopassenger / total_count_Y_twoPMorlater_nopassenger)\n",
    "print(f\"Proportion of expensive restaurant coupons accepted by people who received it after 2 pm and had no passenger: {Y1_proportion_of_Y_twoPMorlater}\")\n"
   ]
  },
  {
   "cell_type": "code",
   "execution_count": 442,
   "metadata": {},
   "outputs": [
    {
     "name": "stdout",
     "output_type": "stream",
     "text": [
      "Proportion of expensive restaurant coupons accepted by people who received it after 2 pm and had no children: 0.47619047619047616\n"
     ]
    }
   ],
   "source": [
    "# Analysis of drivers who accepted expensive resto coupon received before 2 pm\n",
    "# and had no kids\n",
    "\n",
    "data_ver3_coupon_Restaurant2050_twoPMorlater_nokids = data_ver3_coupon_Restaurant2050.query('time_24hour > 10 and has_children == 0')\n",
    "# data_ver3_coupon_Restaurant2050_twoPMorlater_nopassenger.tail()\n",
    "\n",
    "count_Y1_twoPMorlater_nokids = data_ver3_coupon_Restaurant2050_twoPMorlater_nokids['Y'].value_counts()[1]\n",
    "total_count_Y_twoPMorlater_nokids = data_ver3_coupon_Restaurant2050_twoPMorlater_nokids['Y'].count()\n",
    "Y1_proportion_of_Y_twoPMorlater_nokids = (count_Y1_twoPMorlater_nokids / total_count_Y_twoPMorlater_nokids)\n",
    "print(f\"Proportion of expensive restaurant coupons accepted by people who received it after 2 pm and had no children: {Y1_proportion_of_Y_twoPMorlater_nokids}\")\n"
   ]
  },
  {
   "cell_type": "code",
   "execution_count": 443,
   "metadata": {},
   "outputs": [
    {
     "name": "stdout",
     "output_type": "stream",
     "text": [
      "<class 'pandas.core.frame.DataFrame'>\n",
      "Index: 0 entries\n",
      "Data columns (total 26 columns):\n",
      " #   Column                Non-Null Count  Dtype \n",
      "---  ------                --------------  ----- \n",
      " 0   destination           0 non-null      object\n",
      " 1   passenger             0 non-null      object\n",
      " 2   weather               0 non-null      object\n",
      " 3   temperature           0 non-null      int64 \n",
      " 4   time                  0 non-null      object\n",
      " 5   coupon                0 non-null      object\n",
      " 6   expiration            0 non-null      object\n",
      " 7   gender                0 non-null      object\n",
      " 8   age                   0 non-null      object\n",
      " 9   maritalStatus         0 non-null      object\n",
      " 10  has_children          0 non-null      int64 \n",
      " 11  education             0 non-null      object\n",
      " 12  occupation            0 non-null      object\n",
      " 13  income                0 non-null      object\n",
      " 14  Bar                   0 non-null      object\n",
      " 15  CoffeeHouse           0 non-null      object\n",
      " 16  CarryAway             0 non-null      object\n",
      " 17  RestaurantLessThan20  0 non-null      object\n",
      " 18  Restaurant20To50      0 non-null      object\n",
      " 19  toCoupon_GEQ5min      0 non-null      int64 \n",
      " 20  toCoupon_GEQ15min     0 non-null      int64 \n",
      " 21  toCoupon_GEQ25min     0 non-null      int64 \n",
      " 22  direction_same        0 non-null      int64 \n",
      " 23  direction_opp         0 non-null      int64 \n",
      " 24  Y                     0 non-null      int64 \n",
      " 25  time_24hour           0 non-null      int64 \n",
      "dtypes: int64(9), object(17)\n",
      "memory usage: 0.0+ bytes\n"
     ]
    }
   ],
   "source": [
    "# Analysis of drivers who accepted expensive resto coupon, had no kids,\n",
    "# and traveling in same direction as resto\n",
    "\n",
    "data_ver3_coupon_Restaurant2050_nokids_samedirection = data_ver3_coupon_Restaurant2050.query('direction_same == 10 and has_children == 0')\n",
    "data_ver3_coupon_Restaurant2050_nokids_samedirection.info()\n",
    "### No observations meet this condition\n"
   ]
  },
  {
   "cell_type": "code",
   "execution_count": 444,
   "metadata": {},
   "outputs": [
    {
     "name": "stdout",
     "output_type": "stream",
     "text": [
      "Proportion of expensive restaurant coupons accepted by people who had no urgent destination: 0.5038560411311054\n"
     ]
    }
   ],
   "source": [
    "# Analysis of drivers who accepted expensive resto coupon\n",
    "# and had no urgent destination [destination == 'No Urgent Place']\n",
    "\n",
    "data_ver3_coupon_Restaurant2050_noturgent = data_ver3_coupon_Restaurant2050.query('destination == \"No Urgent Place\"')\n",
    "# data_ver3_coupon_Restaurant2050_noturgent.head()\n",
    "\n",
    "count_Y1_noturgent = data_ver3_coupon_Restaurant2050_noturgent['Y'].value_counts()[1]\n",
    "total_count_Y_noturgent = data_ver3_coupon_Restaurant2050_noturgent['Y'].count()\n",
    "Y1_proportion_of_Y_noturgent = (count_Y1_noturgent / total_count_Y_noturgent)\n",
    "print(f\"Proportion of expensive restaurant coupons accepted by people who had no urgent destination: {Y1_proportion_of_Y_noturgent}\")\n"
   ]
  },
  {
   "cell_type": "code",
   "execution_count": 445,
   "metadata": {},
   "outputs": [
    {
     "data": {
      "image/png": "[encoded data removed]",
      "text/plain": [
       "<Figure size 600.25x500 with 1 Axes>"
      ]
     },
     "metadata": {},
     "output_type": "display_data"
    }
   ],
   "source": [
    "# plot income and gender for drivers who accepted more expensive restaurant coupon\n",
    "\n",
    "# new column to represent high and low income dichotomy\n",
    "data_ver3_coupon_Restaurant2050['income_dichotomous'] = 'None'  # create 'income_dichotomous' column with 'None' as the default value\n",
    "\n",
    "# Set values for income_dichotomous\n",
    "data_ver3_coupon_Restaurant2050.loc[data_ver3_coupon_Restaurant2050['income'] == 'Less than $12500', 'income_dichotomous'] = 'lower income'\n",
    "data_ver3_coupon_Restaurant2050.loc[data_ver3_coupon_Restaurant2050['income'] == '$12500 - $24999', 'income_dichotomous'] = 'lower income'\n",
    "data_ver3_coupon_Restaurant2050.loc[data_ver3_coupon_Restaurant2050['income'] == '$25000 - $37499', 'income_dichotomous'] = 'lower income'\n",
    "data_ver3_coupon_Restaurant2050.loc[data_ver3_coupon_Restaurant2050['income'] == '$37500 - $49999', 'income_dichotomous'] = 'lower income'\n",
    "data_ver3_coupon_Restaurant2050.loc[data_ver3_coupon_Restaurant2050['income'] == '$50000 - $62499', 'income_dichotomous'] = 'lower income'\n",
    "data_ver3_coupon_Restaurant2050.loc[data_ver3_coupon_Restaurant2050['income'] == '$62500 - $74999', 'income_dichotomous'] = 'lower income'\n",
    "data_ver3_coupon_Restaurant2050.loc[data_ver3_coupon_Restaurant2050['income'] == '$75000 - $87499', 'income_dichotomous'] = 'high income'\n",
    "data_ver3_coupon_Restaurant2050.loc[data_ver3_coupon_Restaurant2050['income'] == '$87500 - $99999', 'income_dichotomous'] = 'high income'\n",
    "data_ver3_coupon_Restaurant2050.loc[data_ver3_coupon_Restaurant2050['income'] == '$100000 or More', 'income_dichotomous'] = 'high income'\n",
    "# data_ver3_coupon_Restaurant2050.tail()\n",
    "\n",
    "# filter data to only include drivers who accepted the more expensive restaurant coupon\n",
    "data_ver3_coupon_Restaurant2050_acceptcoupon = data_ver3_coupon_Restaurant2050[(data_ver3_coupon_Restaurant2050[\"Y\"] == 1)]\n",
    "# data_ver3_coupon_Restaurant2050_acceptcoupon.tail()\n",
    "\n",
    "catplot_expensiveresto_income_gender = sns.catplot(data = data_ver3_coupon_Restaurant2050_acceptcoupon, y = \"income_dichotomous\", hue=\"gender\", kind=\"count\")\n",
    "catplot_expensiveresto_income_gender.fig.suptitle(\"Income and Gender for Drivers Who Accepted Coupon for Expensive Restaurant\")\n",
    "plt.savefig(\"images/catplot_expensiveresto_income_gender\", bbox_inches='tight', dpi=300)"
   ]
  },
  {
   "cell_type": "code",
   "execution_count": 446,
   "metadata": {},
   "outputs": [
    {
     "name": "stdout",
     "output_type": "stream",
     "text": [
      "Proportion of expensive restaurant coupons accepted by people who had lower income: 0.4388560157790927\n"
     ]
    }
   ],
   "source": [
    "# Analysis for drivers with low income who accepted a coupon for an expensive restaurant\n",
    "\n",
    "data_ver3_coupon_Restaurant2050_lowincome = data_ver3_coupon_Restaurant2050.query('income_dichotomous == \"lower income\"')\n",
    "data_ver3_coupon_Restaurant2050_lowincome.tail()\n",
    "\n",
    "count_Y1_lowincome = data_ver3_coupon_Restaurant2050_lowincome['Y'].value_counts()[1]\n",
    "total_count_Y_lowincome = data_ver3_coupon_Restaurant2050_lowincome['Y'].count()\n",
    "Y1_proportion_of_Y_lowincome = (count_Y1_lowincome / total_count_Y_lowincome)\n",
    "print(f\"Proportion of expensive restaurant coupons accepted by people who had lower income: {Y1_proportion_of_Y_lowincome}\")\n",
    "\n",
    "\n"
   ]
  },
  {
   "cell_type": "code",
   "execution_count": 447,
   "metadata": {},
   "outputs": [
    {
     "data": {
      "text/plain": [
       "maritalStatus\n",
       "Married partner      833\n",
       "Single               638\n",
       "Unmarried partner    352\n",
       "Divorced              73\n",
       "Widowed               17\n",
       "Name: count, dtype: int64"
      ]
     },
     "execution_count": 447,
     "metadata": {},
     "output_type": "execute_result"
    }
   ],
   "source": [
    "data_ver3_coupon_only['maritalStatus'].value_counts()"
   ]
  },
  {
   "cell_type": "code",
   "execution_count": null,
   "metadata": {},
   "outputs": [],
   "source": []
  },
  {
   "cell_type": "code",
   "execution_count": null,
   "metadata": {},
   "outputs": [],
   "source": []
  },
  {
   "cell_type": "code",
   "execution_count": null,
   "metadata": {},
   "outputs": [],
   "source": []
  },
  {
   "cell_type": "code",
   "execution_count": null,
   "metadata": {},
   "outputs": [],
   "source": []
  },
  {
   "cell_type": "code",
   "execution_count": null,
   "metadata": {},
   "outputs": [],
   "source": []
  }
 ],
 "metadata": {
  "colab": {
   "provenance": []
  },
  "kernelspec": {
   "display_name": "Python [conda env:base] *",
   "language": "python",
   "name": "conda-base-py"
  },
  "language_info": {
   "codemirror_mode": {
    "name": "ipython",
    "version": 3
   },
   "file_extension": ".py",
   "mimetype": "text/x-python",
   "name": "python",
   "nbconvert_exporter": "python",
   "pygments_lexer": "ipython3",
   "version": "3.12.2"
  }
 },
 "nbformat": 4,
 "nbformat_minor": 4
}
